{
 "cells": [
  {
   "cell_type": "markdown",
   "id": "310f751e",
   "metadata": {},
   "source": [
    "# 한국어 챗봇"
   ]
  },
  {
   "cell_type": "markdown",
   "id": "b98042bc",
   "metadata": {},
   "source": [
    "## 1. 데이터 수집\n",
    "* https://github.com/songys/Chatbot_data/blob/master/ChatbotData.csv"
   ]
  },
  {
   "cell_type": "code",
   "execution_count": 2,
   "id": "70f2eb25",
   "metadata": {},
   "outputs": [
    {
     "name": "stdout",
     "output_type": "stream",
     "text": [
      "11823\n",
      "                 Q            A  label\n",
      "0           12시 땡!   하루가 또 가네요.      0\n",
      "1      1지망 학교 떨어졌어    위로해 드립니다.      0\n",
      "2     3박4일 놀러가고 싶다  여행은 언제나 좋죠.      0\n",
      "3  3박4일 정도 놀러가고 싶다  여행은 언제나 좋죠.      0\n",
      "4          PPL 심하네   눈살이 찌푸려지죠.      0\n"
     ]
    }
   ],
   "source": [
    "import os\n",
    "from tensorflow import keras\n",
    "import pandas as pd\n",
    "\n",
    "chat_data_path = keras.utils.get_file(\n",
    "    fname=\"chat_raw_data.csv\",\n",
    "    origin=\"https://raw.githubusercontent.com/songys/Chatbot_data/master/ChatbotData.csv\",\n",
    ")\n",
    "\n",
    "origin_data = pd.read_csv(chat_data_path, on_bad_lines='skip')\n",
    "print(len(origin_data))\n",
    "print(origin_data.head())"
   ]
  },
  {
   "cell_type": "markdown",
   "id": "5f6e1c77",
   "metadata": {},
   "source": [
    "## 2. 데이터 전처리"
   ]
  },
  {
   "cell_type": "code",
   "execution_count": 3,
   "id": "d9e9fc2a",
   "metadata": {},
   "outputs": [],
   "source": [
    "# 토크나이징\n",
    "\n",
    "from konlpy.tag import Okt\n",
    "\n",
    "okt = Okt()\n",
    "def okt_tokenize(text):\n",
    "    return okt.morphs(text)"
   ]
  },
  {
   "cell_type": "code",
   "execution_count": 4,
   "id": "9f2eead4",
   "metadata": {},
   "outputs": [],
   "source": [
    "# 불용어 제거\n",
    "\n",
    "stop_words = \"아 휴 아이구 아이쿠 아이고 어 나 우리 저희 따라 의해 을 를 에 의 가 으로 로 에게 뿐이다 의거하여 근거하여 입각하여 기준으로 예하면 예를 들면 예를 들자면 저 소인 소생 저희 지말고 하지마 하지마라 다른 물론 또한 그리고 비길수 없다 해서는 안된다 뿐만 아니라 만이 아니다 만은 아니다 막론하고 관계없이 그치지 않다 그러나 그런데 하지만 든간에 논하지 않다 따지지 않다 설사 비록 더라도 아니면 만 못하다 하는 편이 낫다 불문하고 향하여 향해서 향하다 쪽으로 틈타 이용하여 타다 오르다 제외하고 이 외에 이 밖에 하여야 비로소 한다면 몰라도 외에도 이곳 여기 부터 기점으로 따라서 할 생각이다 하려고하다 이리하여 그리하여 그렇게 함으로써 하지만 일때 할때 앞에서 중에서 보는데서 으로써 로써 까지 해야한다 일것이다 반드시 할줄알다 할수있다 할수있어 임에 틀림없다 한다면 등 등등 제 겨우 단지 다만 할뿐 딩동 댕그 대해서 대하여 대하면 훨씬 얼마나 얼마만큼 얼마큼 남짓 여 얼마간 약간 다소 좀 조금 다수 몇 얼마 지만 하물며 또한 그러나 그렇지만 하지만 이외에도 대해 말하자면 뿐이다 다음에 반대로 반대로 말하자면 이와 반대로 바꾸어서 말하면 바꾸어서 한다면 만약 그렇지않으면 까악 툭 딱 삐걱거리다 보드득 비걱거리다 꽈당 응당 해야한다 에 가서 각 각각 여러분 각종 각자 제각기 하도록하다 와 과 그러므로 그래서 고로 한 까닭에 하기 때문에 거니와 이지만 대하여 관하여 관한 과연 실로 아니나다를가 생각한대로 진짜로 한적이있다 하곤하였다 하 하하 허허 아하 거바 와 오 왜 어째서 무엇때문에 어찌 하겠는가 무슨 어디 어느곳 더군다나 하물며 더욱이는 어느때 언제 야 이봐 어이 여보시오 흐흐 흥 휴 헉헉 헐떡헐떡 영차 여차 어기여차 끙끙 아야 앗 아야 콸콸 졸졸 좍좍 뚝뚝 주룩주룩 솨 우르르 그래도 또 그리고 바꾸어말하면 바꾸어말하자면 혹은 혹시 답다 및 그에 따르는 때가 되어 즉 지든지 설령 가령 하더라도 할지라도 일지라도 지든지 몇 거의 하마터면 인젠 이젠 된바에야 된이상 만큼 어찌됏든 그위에 게다가 점에서 보아 비추어 보아 고려하면 하게될것이다 일것이다 비교적 좀 보다더 비하면 시키다 하게하다 할만하다 의해서 연이서 이어서 잇따라 뒤따라 뒤이어 결국 의지하여 기대여 통하여 자마자 더욱더 불구하고 얼마든지 마음대로 주저하지 않고 곧 즉시 바로 당장 하자마자 밖에 안된다 하면된다 그래 그렇지 요컨대 다시 말하자면 바꿔 말하면 즉 구체적으로 말하자면 시작하여 시초에 이상 허 헉 허걱 바와같이 해도좋다 해도된다 게다가 더구나 하물며 와르르 팍 퍽 펄렁 동안 이래 하고있었다 이었다 에서 로부터 까지 예하면 했어요 해요 함께 같이 더불어 마저 마저도 양자 모두 습니다 가까스로 하려고하다 즈음하여 다른 다른 방면으로 해봐요 습니까 했어요 말할것도 없고 무릎쓰고 개의치않고 하는것만 못하다 하는것이 낫다 매 매번 들 모 어느것 어느 로써 갖고말하자면 어디 어느쪽 어느것 어느해 어느 년도 라 해도 언젠가 어떤것 어느것 저기 저쪽 저것 그때 그럼 그러면 요만한걸 그래 그때 저것만큼 그저 이르기까지 할 줄 안다 할 힘이 있다 너 너희 당신 어찌 설마 차라리 할지언정 할지라도 할망정 할지언정 구토하다 게우다 토하다 메쓰겁다 옆사람 퉤 쳇 의거하여 근거하여 의해 따라 힘입어 그 다음 버금 두번째로 기타 첫번째로 나머지는 그중에서 견지에서 형식으로 쓰여 입장에서 위해서 단지 의해되다 하도록시키다 뿐만아니라 반대로 전후 전자 앞의것 잠시 잠깐 하면서 그렇지만 다음에 그러한즉 그런즉 남들 아무거나 어찌하든지 같다 비슷하다 예컨대 이럴정도로 어떻게 만약 만일 위에서 서술한바와같이 인 듯하다 하지 않는다면 만약에 무엇 무슨 어느 어떤 아래윗 조차 한데 그럼에도 불구하고 여전히 심지어 까지도 조차도 하지 않도록 않기 위하여 때 시각 무렵 시간 동안 어때 어떠한 하여금 네 예 우선 누구 누가 알겠는가 아무도 줄은모른다 줄은 몰랏다 하는 김에 겸사겸사 하는바 그런 까닭에 한 이유는 그러니 그러니까 때문에 그 너희 그들 너희들 타인 것 것들 너 위하여 공동으로 동시에 하기 위하여 어찌하여 무엇때문에 붕붕 윙윙 나 우리 엉엉 휘익 윙윙 오호 아하 어쨋든 만 못하다 하기보다는 차라리 하는 편이 낫다 흐흐 놀라다 상대적으로 말하자면 마치 아니라면 쉿 그렇지 않으면 그렇지 않다면 안 그러면 아니었다면 하든지 아니면 이라면 좋아 알았어 하는것도 그만이다 어쩔수 없다 하나 일 일반적으로 일단 한켠으로는 오자마자 이렇게되면 이와같다면 전부 한마디 한항목 근거로 하기에 아울러 하지 않도록 않기 위해서 이르기까지 이 되다 로 인하여 까닭으로 이유만으로 이로 인하여 그래서 이 때문에 그러므로 그런 까닭에 알 수 있다 결론을 낼 수 있다 으로 인하여 있다 어떤것 관계가 있다 관련이 있다 연관되다 어떤것들 에 대해 이리하여 그리하여 여부 하기보다는 하느니 하면 할수록 운운 이러이러하다 하구나 하도다 다시말하면 다음으로 에 있다 에 달려 있다 우리 우리들 오히려 하기는한데 어떻게 어떻해 어찌됏어 어때 어째서 본대로 자 이 이쪽 여기 이것 이번 이렇게말하자면 이런 이러한 이와 같은 요만큼 요만한 것 얼마 안 되는 것 이만큼 이 정도의 이렇게 많은 것 이와 같다 이때 이렇구나 것과 같이 끼익 삐걱 따위 와 같은 사람들 부류의 사람들 왜냐하면 중의하나 오직 오로지 에 한하다 하기만 하면 도착하다 까지 미치다 도달하다 정도에 이르다 할 지경이다 결과에 이르다 관해서는 여러분 하고 있다 한 후 혼자 자기 자기집 자신 우에 종합한것과같이 총적으로 보면 총적으로 말하면 총적으로 대로 하다 으로서 참 그만이다 할 따름이다 쿵 탕탕 쾅쾅 둥둥 봐 봐라 아이야 아니 와아 응 아이 참나 년 월 일 령 영 일 이 삼 사 오 육 륙 칠 팔 구 이천육 이천칠 이천팔 이천구 하나 둘 셋 넷 다섯 여섯 일곱 여덟 아홉 령 영 이 있 하 것 들 그 되 수 이 보 않 없 나 사람 주 아니 등 같 우리 때 년 가 한 지 대하 오 말 일 그렇 위하 때문 그것 두 말하 알 그러나 받 못하 일 그런 또 문제 더 사회 많 그리고 좋 크 따르 중 나오 가지 씨 시키 만들 지금 생각하 그러 속 하나 집 살 모르 적 월 데 자신 안 어떤 내 내 경우 명 생각 시간 그녀 다시 이런 앞 보이 번 나 다른 어떻 여자 개 전 들 사실 이렇 점 싶 말 정도 좀 원 잘 통하 놓\"\n",
    "stop_words = stop_words.split(\" \")\n",
    "\n",
    "def remove_stop_words(sentence):\n",
    "    return [ word for word in sentence if word not in stop_words ]"
   ]
  },
  {
   "cell_type": "code",
   "execution_count": 245,
   "id": "ba9a03a7",
   "metadata": {},
   "outputs": [],
   "source": [
    "# 텍스트 전처리\n",
    "\n",
    "import re\n",
    "\n",
    "def preprocess_sentence(sentence):\n",
    "    # 입력받은 문장을 양쪽 공백을 제거\n",
    "    sentence = sentence.strip()\n",
    "\n",
    "    # 단어와 구두점(punctuation) 사이의 거리를 만듭니다.\n",
    "    # 예를 들어서 \"저는 학생입니다.\" => \"저는 학생입니다 .\"와 같이\n",
    "    # 학생입니다와 온점 사이에 거리를 만듭니다.\n",
    "    sentence = re.sub(r\"([?.!,])\", r\" \\1 \", sentence)\n",
    "    sentence = re.sub(r'[\" \"]+', \" \", sentence)\n",
    "\n",
    "    # (가-힣, \".\", \"?\", \"!\", \",\")를 제외한 모든 문자를 공백인 ' '로 대체합니다.\n",
    "    sentence = re.sub(r'[^가-힣0-9.,?!]', ' ', sentence)\n",
    "    sentence = sentence.strip()\n",
    "    return sentence\n",
    "\n",
    "\n",
    "def preprocessing_text(data, tokenize, remove_stop_words=None):\n",
    "    data = data.copy()\n",
    "    data = data[[\"Q\", \"A\"]]\n",
    "    \n",
    "    # 1. 결측치 데이터 제거\n",
    "    data.dropna(how=\"any\", axis=\"rows\", inplace=True)\n",
    "    \n",
    "    # 2. 중복 데이터 제거\n",
    "    data.drop_duplicates(inplace=True)\n",
    "    \n",
    "    data[\"Q\"] = data[\"Q\"].apply(preprocess_sentence)\n",
    "    data[\"A\"] = data[\"A\"].apply(preprocess_sentence)\n",
    "    \n",
    "    # 3. 토크나이징 \n",
    "    data[\"Q_token\"] = data[\"Q\"].apply(tokenize)\n",
    "    data[\"A_token\"] = data[\"A\"].apply(tokenize)\n",
    "    \n",
    "    # 4. 불용어 제거\n",
    "    if remove_stop_words is not None:\n",
    "        data[\"Q_token\"] = data[\"Q_token\"].apply(remove_stop_words)\n",
    "        data[\"A_token\"] = data[\"A_token\"].apply(remove_stop_words)\n",
    "    \n",
    "    def length(sentences):\n",
    "        max_len = 0\n",
    "        min_len = 9999\n",
    "        sum_len = 0\n",
    "\n",
    "        for sentence in sentences:\n",
    "            len_sen = len(sentence)\n",
    "            if len_sen > max_len:\n",
    "                max_len = len_sen\n",
    "            if len_sen < max_len:\n",
    "                min_len = len_sen\n",
    "            sum_len += len_sen\n",
    "        \n",
    "        print(\"\\tmax len\", max_len)\n",
    "        print(\"\\tmin len\", min_len)\n",
    "        print(\"\\tmean len\", sum_len / len(sentences))\n",
    "    \n",
    "    print(\"Q length:\\n\")\n",
    "    length(data[\"Q_token\"])\n",
    "    print(\"A length|\\n\")\n",
    "    length(data[\"A_token\"])\n",
    "    \n",
    "    return data[[\"Q_token\", \"A_token\"]]"
   ]
  },
  {
   "cell_type": "code",
   "execution_count": 246,
   "id": "c0e6d969",
   "metadata": {},
   "outputs": [
    {
     "name": "stdout",
     "output_type": "stream",
     "text": [
      "Q length:\n",
      "\n",
      "\tmax len 16\n",
      "\tmin len 3\n",
      "\tmean len 3.890553191489362\n",
      "A length|\n",
      "\n",
      "\tmax len 20\n",
      "\tmin len 7\n",
      "\tmean len 4.848170212765957\n",
      "                  Q_token              A_token\n",
      "0             [12시, 땡, !]         [하루, 가네요, .]\n",
      "1       [1, 지망, 학교, 떨어졌어]     [위로, 해, 드립니다, .]\n",
      "2  [3, 박, 4일, 놀러, 가고, 싶다]  [여행, 은, 언제나, 좋죠, .]\n",
      "3  [3, 박, 4일, 놀러, 가고, 싶다]  [여행, 은, 언제나, 좋죠, .]\n",
      "4                   [심하네]       [눈살, 찌푸려지죠, .]\n"
     ]
    }
   ],
   "source": [
    "data = preprocessing_text(data=origin_data, \n",
    "                          tokenize=okt_tokenize, \n",
    "                          remove_stop_words=remove_stop_words)\n",
    "print(data.head())"
   ]
  },
  {
   "cell_type": "code",
   "execution_count": 247,
   "id": "31fa2525",
   "metadata": {},
   "outputs": [],
   "source": [
    "MAX_LENGTH = 40"
   ]
  },
  {
   "cell_type": "markdown",
   "id": "c059e3a2",
   "metadata": {},
   "source": [
    "vocabulary 구성"
   ]
  },
  {
   "cell_type": "code",
   "execution_count": 248,
   "id": "90291e89",
   "metadata": {},
   "outputs": [
    {
     "name": "stdout",
     "output_type": "stream",
     "text": [
      "테스트 데이터의 수 : 2350\n"
     ]
    }
   ],
   "source": [
    "import numpy as np\n",
    "\n",
    "# 시작, 종료 토큰 추가\n",
    "encoder_input = data[\"Q_token\"]\n",
    "decoder_data = data[\"A_token\"].apply(lambda s: [\"sostoken\"] + s + [\"eostoken\"])\n",
    "\n",
    "total_input = encoder_input + decoder_data\n",
    "\n",
    "# 인덱스 셔플\n",
    "indices = np.arange(encoder_input.shape[0])\n",
    "np.random.shuffle(indices)\n",
    "\n",
    "# 랜덤 인덱싱\n",
    "encoder_input = encoder_input.values[indices]\n",
    "decoder_data = decoder_data.values[indices]\n",
    "\n",
    "# 테스트 데이터셋 계산\n",
    "n_of_val = int(len(encoder_input)*0.2)\n",
    "print('테스트 데이터의 수 :', n_of_val)\n"
   ]
  },
  {
   "cell_type": "code",
   "execution_count": 249,
   "id": "03f332c9",
   "metadata": {},
   "outputs": [
    {
     "name": "stdout",
     "output_type": "stream",
     "text": [
      "훈련 데이터의 개수 : 9400\n",
      "훈련 레이블의 개수 : 9400\n",
      "테스트 데이터의 개수 : 2350\n",
      "테스트 레이블의 개수 : 2350\n"
     ]
    }
   ],
   "source": [
    "# train, test 인덱싱\n",
    "\n",
    "encoder_input_train = encoder_input[:-n_of_val]\n",
    "decoder_data_train = decoder_data[:-n_of_val]\n",
    "\n",
    "\n",
    "encoder_input_test = encoder_input[-n_of_val:]\n",
    "decoder_data_test = decoder_data[-n_of_val:]\n",
    "\n",
    "\n",
    "print('훈련 데이터의 개수 :', len(encoder_input_train))\n",
    "print('훈련 레이블의 개수 :', len(decoder_data_train))\n",
    "print('테스트 데이터의 개수 :', len(encoder_input_test))\n",
    "print('테스트 레이블의 개수 :', len(decoder_data_test))"
   ]
  },
  {
   "cell_type": "markdown",
   "id": "742fca33",
   "metadata": {},
   "source": [
    "단어 집합 생성"
   ]
  },
  {
   "cell_type": "code",
   "execution_count": 250,
   "id": "803bce86",
   "metadata": {},
   "outputs": [],
   "source": [
    "from tensorflow.keras.preprocessing.text import Tokenizer\n",
    "\n",
    "all_tokenizer = Tokenizer()\n",
    "all_tokenizer.fit_on_texts(total_input)"
   ]
  },
  {
   "cell_type": "code",
   "execution_count": 251,
   "id": "7be17f01",
   "metadata": {},
   "outputs": [
    {
     "name": "stdout",
     "output_type": "stream",
     "text": [
      "단어 집합(vocabulary)의 크기 : 12342\n",
      "등장 빈도가 1번 이하인 희귀 단어의 수: 5530\n",
      "단어 집합에서 희귀 단어를 제외시킬 경우의 단어 집합의 크기 6812\n",
      "단어 집합에서 희귀 단어의 비율: 44.806352292983306\n",
      "전체 등장 빈도에서 희귀 단어 등장 빈도 비율: 4.382627991757807\n"
     ]
    }
   ],
   "source": [
    "# threshold를 정해 빈도 수가 낮은 단어 확인\n",
    "\n",
    "threshold = 2\n",
    "total_cnt = len(all_tokenizer.word_index)\n",
    "rare_cnt = 0\n",
    "total_freq = 0\n",
    "rare_freq = 0\n",
    "\n",
    "for key, value in all_tokenizer.word_counts.items():\n",
    "    \n",
    "    total_freq += value\n",
    "    \n",
    "    if value < threshold:\n",
    "        rare_cnt += 1\n",
    "        rare_freq += value\n",
    "        \n",
    "print('단어 집합(vocabulary)의 크기 :', total_cnt)\n",
    "print('등장 빈도가 %s번 이하인 희귀 단어의 수: %s'%(threshold - 1, rare_cnt))\n",
    "print('단어 집합에서 희귀 단어를 제외시킬 경우의 단어 집합의 크기 %s'%(total_cnt - rare_cnt))\n",
    "print(\"단어 집합에서 희귀 단어의 비율:\", (rare_cnt / total_cnt)*100)\n",
    "print(\"전체 등장 빈도에서 희귀 단어 등장 빈도 비율:\", (rare_freq / total_freq)*100)"
   ]
  },
  {
   "cell_type": "code",
   "execution_count": 252,
   "id": "f6d44139",
   "metadata": {},
   "outputs": [],
   "source": [
    "# 빈도수가 낮은 단어 제거\n",
    "\n",
    "VOCAB_SIZE = 7_000\n",
    "all_tokenizer = Tokenizer(num_words=VOCAB_SIZE)\n",
    "all_tokenizer.fit_on_texts(total_input)"
   ]
  },
  {
   "cell_type": "code",
   "execution_count": 253,
   "id": "f393088c",
   "metadata": {},
   "outputs": [],
   "source": [
    "START_TOKEN = all_tokenizer.word_index[\"sostoken\"]\n",
    "END_TOKEN = all_tokenizer.word_index[\"eostoken\"]"
   ]
  },
  {
   "cell_type": "code",
   "execution_count": 254,
   "id": "a39e1324",
   "metadata": {},
   "outputs": [],
   "source": [
    "# 텍스트를 정수 시퀀스로 변환\n",
    "encoder_input_train = all_tokenizer.texts_to_sequences(encoder_input_train)\n",
    "encoder_input_test = all_tokenizer.texts_to_sequences(encoder_input_test)\n",
    "\n",
    "decoder_data_train = all_tokenizer.texts_to_sequences(decoder_data_train)\n",
    "decoder_data_test = all_tokenizer.texts_to_sequences(decoder_data_test)"
   ]
  },
  {
   "cell_type": "code",
   "execution_count": 255,
   "id": "eea10e42",
   "metadata": {},
   "outputs": [
    {
     "name": "stdout",
     "output_type": "stream",
     "text": [
      "삭제할 훈련 데이터의 개수 : 2\n",
      "삭제할 테스트 데이터의 개수 : 2\n",
      "훈련 데이터의 개수 : 9398\n",
      "훈련 레이블의 개수 : 9398\n",
      "테스트 데이터의 개수 : 2348\n",
      "테스트 레이블의 개수 : 2348\n"
     ]
    }
   ],
   "source": [
    "# 단어 처리 후 텍스트 데이터 길이 확인, decoder data 이 2인 데이터 제거\n",
    "\n",
    "drop_train = [index for index, sentence in enumerate(decoder_data_train) if len(sentence) == 2]\n",
    "drop_test = [index for index, sentence in enumerate(decoder_data_test) if len(sentence) == 2]\n",
    "\n",
    "print('삭제할 훈련 데이터의 개수 :', len(drop_train))\n",
    "print('삭제할 테스트 데이터의 개수 :', len(drop_test))\n",
    "\n",
    "encoder_input_train = [sentence for index, sentence in enumerate(encoder_input_train) if index not in drop_train]\n",
    "decoder_data_train = [sentence for index, sentence in enumerate(decoder_data_train) if index not in drop_train]\n",
    "\n",
    "encoder_input_test = [sentence for index, sentence in enumerate(encoder_input_test) if index not in drop_test]\n",
    "decoder_data_test = [sentence for index, sentence in enumerate(decoder_data_test) if index not in drop_test]\n",
    "\n",
    "print('훈련 데이터의 개수 :', len(encoder_input_train))\n",
    "print('훈련 레이블의 개수 :', len(decoder_data_train))\n",
    "print('테스트 데이터의 개수 :', len(encoder_input_test))\n",
    "print('테스트 레이블의 개수 :', len(decoder_data_test))"
   ]
  },
  {
   "cell_type": "code",
   "execution_count": 256,
   "id": "560bfaf2",
   "metadata": {},
   "outputs": [],
   "source": [
    "# 최종 텍스트 패딩\n",
    "\n",
    "from tensorflow.keras.preprocessing.sequence import pad_sequences\n",
    "\n",
    "encoder_input_train = pad_sequences(encoder_input_train, maxlen=MAX_LENGTH, padding='post')\n",
    "encoder_input_test = pad_sequences(encoder_input_test, maxlen=MAX_LENGTH, padding='post')\n",
    "\n",
    "decoder_data_train = pad_sequences(decoder_data_train, maxlen=MAX_LENGTH, padding='post')\n",
    "decoder_data_test = pad_sequences(decoder_data_test, maxlen=MAX_LENGTH, padding='post')"
   ]
  },
  {
   "cell_type": "code",
   "execution_count": 257,
   "id": "639ae751",
   "metadata": {},
   "outputs": [
    {
     "name": "stdout",
     "output_type": "stream",
     "text": [
      "encoder_input_train shape (9398, 40)\n",
      "decoder_data_train shape (9398, 39)\n"
     ]
    }
   ],
   "source": [
    "import tensorflow as tf\n",
    "\n",
    "BATCH_SIZE = 64\n",
    "BUFFER_SIZE = 10_000\n",
    "\n",
    "print(\"encoder_input_train shape\", encoder_input_train.shape)\n",
    "print(\"decoder_data_train shape\", decoder_data_train[:, :-1].shape)\n",
    "\n",
    "dataset = tf.data.Dataset.from_tensor_slices((\n",
    "    {\n",
    "        \"inputs\": encoder_input_train,\n",
    "        \"dec_inputs\": decoder_data_train[:, :-1]\n",
    "    },\n",
    "    {\n",
    "        \"outputs\": decoder_data_train[:, 1:]\n",
    "    }\n",
    "))\n",
    "\n",
    "dataset = dataset.cache()\n",
    "dataset = dataset.shuffle(BUFFER_SIZE)\n",
    "dataset = dataset.batch(BATCH_SIZE)\n",
    "dataset = dataset.prefetch(tf.data.experimental.AUTOTUNE)\n",
    "\n",
    "valid_dataset = tf.data.Dataset.from_tensor_slices((\n",
    "    {\n",
    "        \"inputs\": encoder_input_test,\n",
    "        \"dec_inputs\": decoder_data_test[:, :-1]\n",
    "    },\n",
    "    {\n",
    "        \"outputs\": decoder_data_test[:, 1:]\n",
    "    }\n",
    "))\n",
    "\n",
    "valid_dataset = dataset.cache()\n",
    "valid_dataset = dataset.shuffle(BUFFER_SIZE)\n",
    "valid_dataset = dataset.batch(256)\n",
    "valid_dataset = dataset.prefetch(tf.data.experimental.AUTOTUNE)"
   ]
  },
  {
   "cell_type": "markdown",
   "id": "158fbf82",
   "metadata": {},
   "source": [
    "## 3. 트랜스포머 모델링"
   ]
  },
  {
   "cell_type": "markdown",
   "id": "545c009d",
   "metadata": {},
   "source": [
    "### 1) Positional Encoding Layer"
   ]
  },
  {
   "cell_type": "code",
   "execution_count": 258,
   "id": "852f1eb6",
   "metadata": {},
   "outputs": [],
   "source": [
    "class PositionalEncoding(tf.keras.layers.Layer):\n",
    "    \n",
    "    def __init__(self, position, d_model):\n",
    "        super(PositionalEncoding, self).__init__()\n",
    "        self.pos_encoding = self.positional_encoding(position, d_model)\n",
    "        \n",
    "    def get_angles(self, position, i, d_model):\n",
    "        angles = 1 / tf.pow(10000, (2 * (i // 2)) / tf.cast(d_model, tf.float32))\n",
    "        return position * angles\n",
    "        \n",
    "    def positional_encoding(self, position, d_model):\n",
    "        angle_rads = self.get_angles(\n",
    "            position=tf.range(position, dtype=tf.float32)[:, tf.newaxis],\n",
    "            i=tf.range(d_model, dtype=tf.float32)[tf.newaxis, :],\n",
    "            d_model=d_model\n",
    "        )\n",
    "        \n",
    "        sines = tf.math.sin(angle_rads[:, 0::2]) # d_model 축으로 2step sin\n",
    "        cosines = tf.math.cos(angle_rads[:, 1::2]) # cos\n",
    "        \n",
    "        pos_encoding = tf.stack([sines, cosines], axis=0) # stack \n",
    "        pos_encoding = tf.transpose(pos_encoding, [1, 2, 0]) # position, d_model, [[sin-cos]...] 전치\n",
    "        pos_encoding = tf.reshape(pos_encoding, [position, d_model]) # reshape\n",
    "        \n",
    "        pos_encoding = pos_encoding[tf.newaxis, ...] # boardcast를 적용하기 위해 바깥 차원 생성\n",
    "        return tf.cast(pos_encoding, tf.float32)\n",
    "    \n",
    "    def call(self, inputs):\n",
    "        return inputs + self.pos_encoding[:, :tf.shape(inputs)[1], :] # positional encoding 값 더하기"
   ]
  },
  {
   "cell_type": "markdown",
   "id": "acb5cd47",
   "metadata": {},
   "source": [
    "### 2) Scaled dot product Attention"
   ]
  },
  {
   "cell_type": "code",
   "execution_count": 259,
   "id": "1fc423b3",
   "metadata": {},
   "outputs": [],
   "source": [
    "# 스케일드 닷 프로덕트 어텐션 함수\n",
    "def scaled_dot_product_attention(query, key, value, mask):\n",
    "  # 어텐션 가중치는 Q와 K의 닷 프로덕트\n",
    "  matmul_qk = tf.matmul(query, key, transpose_b=True)\n",
    "\n",
    "  # 가중치를 정규화\n",
    "  depth = tf.cast(tf.shape(key)[-1], tf.float32)\n",
    "  logits = matmul_qk / tf.math.sqrt(depth)\n",
    "\n",
    "  # 패딩에 마스크 추가\n",
    "  if mask is not None:\n",
    "    logits += (mask * -1e9)\n",
    "\n",
    "  # softmax적용\n",
    "  attention_weights = tf.nn.softmax(logits, axis=-1)\n",
    "\n",
    "  # 최종 어텐션은 가중치와 V의 닷 프로덕트\n",
    "  output = tf.matmul(attention_weights, value)\n",
    "  return output"
   ]
  },
  {
   "cell_type": "markdown",
   "id": "599d3e9f",
   "metadata": {},
   "source": [
    "### 3) Multi Head Attention"
   ]
  },
  {
   "cell_type": "code",
   "execution_count": 260,
   "id": "e0cb4928",
   "metadata": {},
   "outputs": [],
   "source": [
    "class MultiHeadAttention(tf.keras.layers.Layer):\n",
    "\n",
    "    def __init__(self, d_model, num_heads, name=\"multi_head_attention\"):\n",
    "        super(MultiHeadAttention, self).__init__(name=name)\n",
    "        self.num_heads = num_heads\n",
    "        self.d_model = d_model\n",
    "\n",
    "        assert d_model % self.num_heads == 0\n",
    "\n",
    "        self.depth = d_model // self.num_heads\n",
    "\n",
    "        self.query_dense = tf.keras.layers.Dense(units=d_model)\n",
    "        self.key_dense = tf.keras.layers.Dense(units=d_model)\n",
    "        self.value_dense = tf.keras.layers.Dense(units=d_model)\n",
    "\n",
    "        self.dense = tf.keras.layers.Dense(units=d_model)\n",
    "\n",
    "    def split_heads(self, inputs, batch_size):\n",
    "\n",
    "        inputs = tf.reshape(\n",
    "            inputs, shape=(batch_size, -1, self.num_heads, self.depth))\n",
    "\n",
    "        return tf.transpose(inputs, perm=[0, 2, 1, 3])\n",
    "\n",
    "    def call(self, inputs):\n",
    "        query, key, value, mask = inputs['query'], inputs['key'], inputs[\n",
    "            'value'], inputs['mask']\n",
    "\n",
    "        batch_size = tf.shape(query)[0]\n",
    "\n",
    "        # Q, K, V에 각각 Dense를 적용합니다\n",
    "        query = self.query_dense(query)\n",
    "        key = self.key_dense(key)\n",
    "        value = self.value_dense(value)\n",
    "\n",
    "\n",
    "        # 병렬 연산을 위한 머리를 여러 개 만듭니다\n",
    "        query = self.split_heads(query, batch_size)\n",
    "        key = self.split_heads(key, batch_size)\n",
    "        value = self.split_heads(value, batch_size)\n",
    "\n",
    "        # 스케일드 닷 프로덕트 어텐션 함수\n",
    "        scaled_attention = scaled_dot_product_attention(query, key, value, mask)\n",
    "\n",
    "        scaled_attention = tf.transpose(scaled_attention, perm=[0, 2, 1, 3])\n",
    "\n",
    "        # 어텐션 연산 후에 각 결과를 다시 연결(concatenate)합니다\n",
    "        concat_attention = tf.reshape(scaled_attention,\n",
    "                                      (batch_size, -1, self.d_model))\n",
    "        # 최종 결과에도 Dense를 한 번 더 적용합니다\n",
    "        outputs = self.dense(concat_attention)\n",
    "\n",
    "        return outputs"
   ]
  },
  {
   "cell_type": "code",
   "execution_count": 261,
   "id": "72b35df0",
   "metadata": {},
   "outputs": [],
   "source": [
    "# 패딩 마스크 생성\n",
    "\n",
    "def create_padding_mask(x):\n",
    "  mask = tf.cast(tf.math.equal(x, 0), tf.float32)\n",
    "  # (batch_size, 1, 1, sequence length)\n",
    "  return mask[:, tf.newaxis, tf.newaxis, :]"
   ]
  },
  {
   "cell_type": "code",
   "execution_count": 350,
   "id": "c3be9018",
   "metadata": {},
   "outputs": [],
   "source": [
    "# 룩 어헤드 마스크 생성\n",
    "\n",
    "def create_look_ahead_mask(x):\n",
    "  seq_len = tf.shape(x)[1]\n",
    "  look_ahead_mask = 1 - tf.linalg.band_part(tf.ones((seq_len, seq_len)), -1, 0)\n",
    "  padding_mask = create_padding_mask(x)\n",
    "  return tf.maximum(look_ahead_mask, padding_mask)"
   ]
  },
  {
   "cell_type": "markdown",
   "id": "45bd4e46",
   "metadata": {},
   "source": [
    "### 4) Encoder Layer"
   ]
  },
  {
   "cell_type": "code",
   "execution_count": 263,
   "id": "5fa4d3a4",
   "metadata": {},
   "outputs": [],
   "source": [
    "# 인코더 하나의 레이어를 함수로 구현.\n",
    "# 이 하나의 레이어 안에는 두 개의 서브 레이어가 존재합니다.\n",
    "def encoder_layer(units, d_model, num_heads, dropout, name=\"encoder_layer\"):\n",
    "  inputs = tf.keras.Input(shape=(None, d_model), name=\"inputs\")\n",
    "\n",
    "  # 패딩 마스크 사용\n",
    "  padding_mask = tf.keras.Input(shape=(1, 1, None), name=\"padding_mask\")\n",
    "\n",
    "  # 첫 번째 서브 레이어 : 멀티 헤드 어텐션 수행 (셀프 어텐션)\n",
    "  attention = MultiHeadAttention(\n",
    "      d_model, num_heads, name=\"attention\")({\n",
    "          'query': inputs,\n",
    "          'key': inputs,\n",
    "          'value': inputs,\n",
    "          'mask': padding_mask\n",
    "      })\n",
    "\n",
    "  # 어텐션의 결과는 Dropout과 Layer Normalization이라는 훈련을 돕는 테크닉을 수행\n",
    "  attention = tf.keras.layers.Dropout(rate=dropout)(attention)\n",
    "  attention = tf.keras.layers.LayerNormalization(\n",
    "      epsilon=1e-6)(inputs + attention)\n",
    "\n",
    "  # 두 번째 서브 레이어 : 2개의 완전연결층\n",
    "  outputs = tf.keras.layers.Dense(units=units, activation='relu')(attention)\n",
    "  outputs = tf.keras.layers.Dense(units=d_model)(outputs)\n",
    "\n",
    "  # 완전연결층의 결과는 Dropout과 LayerNormalization이라는 훈련을 돕는 테크닉을 수행\n",
    "  outputs = tf.keras.layers.Dropout(rate=dropout)(outputs)\n",
    "  outputs = tf.keras.layers.LayerNormalization(\n",
    "      epsilon=1e-6)(attention + outputs)\n",
    "\n",
    "  return tf.keras.Model(\n",
    "      inputs=[inputs, padding_mask], outputs=outputs, name=name)"
   ]
  },
  {
   "cell_type": "code",
   "execution_count": 264,
   "id": "8f06e869",
   "metadata": {},
   "outputs": [],
   "source": [
    "def encoder(vocab_size,\n",
    "            num_layers,\n",
    "            units,\n",
    "            d_model,\n",
    "            num_heads,\n",
    "            dropout,\n",
    "            name=\"encoder\"):\n",
    "  inputs = tf.keras.Input(shape=(None,), name=\"inputs\")\n",
    "\n",
    "  # 패딩 마스크 사용\n",
    "  padding_mask = tf.keras.Input(shape=(1, 1, None), name=\"padding_mask\")\n",
    "\n",
    "  # 임베딩 레이어\n",
    "  embeddings = tf.keras.layers.Embedding(vocab_size, d_model)(inputs)\n",
    "  embeddings *= tf.math.sqrt(tf.cast(d_model, tf.float32))\n",
    "\n",
    "  # 포지셔널 인코딩\n",
    "  embeddings = PositionalEncoding(vocab_size, d_model)(embeddings)\n",
    "\n",
    "  outputs = tf.keras.layers.Dropout(rate=dropout)(embeddings)\n",
    "\n",
    "  # num_layers만큼 쌓아올린 인코더의 층.\n",
    "  for i in range(num_layers):\n",
    "    outputs = encoder_layer(\n",
    "        units=units,\n",
    "        d_model=d_model,\n",
    "        num_heads=num_heads,\n",
    "        dropout=dropout,\n",
    "        name=\"encoder_layer_{}\".format(i),\n",
    "    )([outputs, padding_mask])\n",
    "\n",
    "  return tf.keras.Model(\n",
    "      inputs=[inputs, padding_mask], outputs=outputs, name=name)"
   ]
  },
  {
   "cell_type": "markdown",
   "id": "0aff5569",
   "metadata": {},
   "source": [
    "### 5) Decoder Layer"
   ]
  },
  {
   "cell_type": "code",
   "execution_count": 265,
   "id": "4806630e",
   "metadata": {},
   "outputs": [],
   "source": [
    "# 디코더 하나의 레이어를 함수로 구현.\n",
    "# 이 하나의 레이어 안에는 세 개의 서브 레이어가 존재합니다.\n",
    "def decoder_layer(units, d_model, num_heads, dropout, name=\"decoder_layer\"):\n",
    "  inputs = tf.keras.Input(shape=(None, d_model), name=\"inputs\")\n",
    "  enc_outputs = tf.keras.Input(shape=(None, d_model), name=\"encoder_outputs\")\n",
    "  look_ahead_mask = tf.keras.Input(\n",
    "      shape=(1, None, None), name=\"look_ahead_mask\")\n",
    "  padding_mask = tf.keras.Input(shape=(1, 1, None), name='padding_mask')\n",
    "\n",
    "  # 첫 번째 서브 레이어 : 멀티 헤드 어텐션 수행 (셀프 어텐션)\n",
    "  attention1 = MultiHeadAttention(\n",
    "      d_model, num_heads, name=\"attention_1\")(inputs={\n",
    "          'query': inputs,\n",
    "          'key': inputs,\n",
    "          'value': inputs,\n",
    "          'mask': look_ahead_mask\n",
    "      })\n",
    "\n",
    "  # 멀티 헤드 어텐션의 결과는 LayerNormalization이라는 훈련을 돕는 테크닉을 수행\n",
    "  attention1 = tf.keras.layers.LayerNormalization(\n",
    "      epsilon=1e-6)(attention1 + inputs)\n",
    "\n",
    "  # 두 번째 서브 레이어 : 마스크드 멀티 헤드 어텐션 수행 (인코더-디코더 어텐션)\n",
    "  attention2 = MultiHeadAttention(\n",
    "      d_model, num_heads, name=\"attention_2\")(inputs={\n",
    "          'query': attention1,\n",
    "          'key': enc_outputs,\n",
    "          'value': enc_outputs,\n",
    "          'mask': padding_mask\n",
    "      })\n",
    "\n",
    "  # 마스크드 멀티 헤드 어텐션의 결과는\n",
    "  # Dropout과 LayerNormalization이라는 훈련을 돕는 테크닉을 수행\n",
    "  attention2 = tf.keras.layers.Dropout(rate=dropout)(attention2)\n",
    "  attention2 = tf.keras.layers.LayerNormalization(\n",
    "      epsilon=1e-6)(attention2 + attention1)\n",
    "\n",
    "  # 세 번째 서브 레이어 : 2개의 완전연결층\n",
    "  outputs = tf.keras.layers.Dense(units=units, activation='relu')(attention2)\n",
    "  outputs = tf.keras.layers.Dense(units=d_model)(outputs)\n",
    "\n",
    "  # 완전연결층의 결과는 Dropout과 LayerNormalization 수행\n",
    "  outputs = tf.keras.layers.Dropout(rate=dropout)(outputs)\n",
    "  outputs = tf.keras.layers.LayerNormalization(\n",
    "      epsilon=1e-6)(outputs + attention2)\n",
    "\n",
    "  return tf.keras.Model(\n",
    "      inputs=[inputs, enc_outputs, look_ahead_mask, padding_mask],\n",
    "      outputs=outputs,\n",
    "      name=name)"
   ]
  },
  {
   "cell_type": "code",
   "execution_count": 266,
   "id": "bddfbe3e",
   "metadata": {},
   "outputs": [],
   "source": [
    "def decoder(vocab_size,\n",
    "            num_layers,\n",
    "            units,\n",
    "            d_model,\n",
    "            num_heads,\n",
    "            dropout,\n",
    "            name='decoder'):\n",
    "  inputs = tf.keras.Input(shape=(None,), name='inputs')\n",
    "  enc_outputs = tf.keras.Input(shape=(None, d_model), name='encoder_outputs')\n",
    "  look_ahead_mask = tf.keras.Input(\n",
    "      shape=(1, None, None), name='look_ahead_mask')\n",
    "\n",
    "  # 패딩 마스크\n",
    "  padding_mask = tf.keras.Input(shape=(1, 1, None), name='padding_mask')\n",
    "  \n",
    "  # 임베딩 레이어\n",
    "  embeddings = tf.keras.layers.Embedding(vocab_size, d_model)(inputs)\n",
    "  embeddings *= tf.math.sqrt(tf.cast(d_model, tf.float32))\n",
    "\n",
    "  # 포지셔널 인코딩\n",
    "  embeddings = PositionalEncoding(vocab_size, d_model)(embeddings)\n",
    "\n",
    "  # Dropout이라는 훈련을 돕는 테크닉을 수행\n",
    "  outputs = tf.keras.layers.Dropout(rate=dropout)(embeddings)\n",
    "\n",
    "  for i in range(num_layers):\n",
    "    outputs = decoder_layer(\n",
    "        units=units,\n",
    "        d_model=d_model,\n",
    "        num_heads=num_heads,\n",
    "        dropout=dropout,\n",
    "        name='decoder_layer_{}'.format(i),\n",
    "    )(inputs=[outputs, enc_outputs, look_ahead_mask, padding_mask])\n",
    "\n",
    "  return tf.keras.Model(\n",
    "      inputs=[inputs, enc_outputs, look_ahead_mask, padding_mask],\n",
    "      outputs=outputs,\n",
    "      name=name)"
   ]
  },
  {
   "cell_type": "markdown",
   "id": "b47c6e15",
   "metadata": {},
   "source": [
    "### 6) Transformer"
   ]
  },
  {
   "cell_type": "code",
   "execution_count": 267,
   "id": "a02aabb2",
   "metadata": {},
   "outputs": [],
   "source": [
    "def transformer(vocab_size,\n",
    "                num_layers,\n",
    "                units,\n",
    "                d_model,\n",
    "                num_heads,\n",
    "                dropout,\n",
    "                name=\"transformer\"):\n",
    "    inputs = tf.keras.Input(shape=(None,), name=\"inputs\")\n",
    "    dec_inputs = tf.keras.Input(shape=(None,), name=\"dec_inputs\")\n",
    "\n",
    "    # 인코더에서 패딩을 위한 마스크\n",
    "    enc_padding_mask = tf.keras.layers.Lambda(\n",
    "        create_padding_mask, output_shape=(1, 1, None),\n",
    "        name='enc_padding_mask')(inputs)\n",
    "\n",
    "    # 디코더에서 미래의 토큰을 마스크 하기 위해서 사용합니다.\n",
    "    # 내부적으로 패딩 마스크도 포함되어져 있습니다.\n",
    "    look_ahead_mask = tf.keras.layers.Lambda(\n",
    "        create_look_ahead_mask,\n",
    "        output_shape=(1, None, None),\n",
    "        name='look_ahead_mask')(dec_inputs)\n",
    "\n",
    "    # 두 번째 어텐션 블록에서 인코더의 벡터들을 마스킹\n",
    "    # 디코더에서 패딩을 위한 마스크\n",
    "    dec_padding_mask = tf.keras.layers.Lambda(\n",
    "        create_padding_mask, output_shape=(1, 1, None),\n",
    "        name='dec_padding_mask')(inputs)\n",
    "\n",
    "    # 인코더\n",
    "    enc_outputs = encoder(\n",
    "        vocab_size=vocab_size,\n",
    "        num_layers=num_layers,\n",
    "        units=units,\n",
    "        d_model=d_model,\n",
    "        num_heads=num_heads,\n",
    "        dropout=dropout,\n",
    "    )(inputs=[inputs, enc_padding_mask])\n",
    "\n",
    "    # 디코더\n",
    "    dec_outputs = decoder(\n",
    "        vocab_size=vocab_size,\n",
    "        num_layers=num_layers,\n",
    "        units=units,\n",
    "        d_model=d_model,\n",
    "        num_heads=num_heads,\n",
    "        dropout=dropout,\n",
    "    )(inputs=[dec_inputs, enc_outputs, look_ahead_mask, dec_padding_mask])\n",
    "\n",
    "    # 완전연결층\n",
    "    outputs = tf.keras.layers.Dense(units=vocab_size, name=\"outputs\")(dec_outputs)\n",
    "\n",
    "    return tf.keras.Model(inputs=[inputs, dec_inputs], outputs=outputs, name=name)"
   ]
  },
  {
   "cell_type": "markdown",
   "id": "982327f0",
   "metadata": {},
   "source": [
    "hyper parmeter"
   ]
  },
  {
   "cell_type": "code",
   "execution_count": 268,
   "id": "2ff125d8",
   "metadata": {},
   "outputs": [
    {
     "name": "stdout",
     "output_type": "stream",
     "text": [
      "Model: \"transformer\"\n",
      "__________________________________________________________________________________________________\n",
      "Layer (type)                    Output Shape         Param #     Connected to                     \n",
      "==================================================================================================\n",
      "inputs (InputLayer)             [(None, None)]       0                                            \n",
      "__________________________________________________________________________________________________\n",
      "dec_inputs (InputLayer)         [(None, None)]       0                                            \n",
      "__________________________________________________________________________________________________\n",
      "enc_padding_mask (Lambda)       (None, 1, 1, None)   0           inputs[0][0]                     \n",
      "__________________________________________________________________________________________________\n",
      "encoder (Functional)            (None, None, 256)    2846208     inputs[0][0]                     \n",
      "                                                                 enc_padding_mask[0][0]           \n",
      "__________________________________________________________________________________________________\n",
      "look_ahead_mask (Lambda)        (None, 1, None, None 0           dec_inputs[0][0]                 \n",
      "__________________________________________________________________________________________________\n",
      "dec_padding_mask (Lambda)       (None, 1, 1, None)   0           inputs[0][0]                     \n",
      "__________________________________________________________________________________________________\n",
      "decoder (Functional)            (None, None, 256)    3373568     dec_inputs[0][0]                 \n",
      "                                                                 encoder[0][0]                    \n",
      "                                                                 look_ahead_mask[0][0]            \n",
      "                                                                 dec_padding_mask[0][0]           \n",
      "__________________________________________________________________________________________________\n",
      "outputs (Dense)                 (None, None, 7000)   1799000     decoder[0][0]                    \n",
      "==================================================================================================\n",
      "Total params: 8,018,776\n",
      "Trainable params: 8,018,776\n",
      "Non-trainable params: 0\n",
      "__________________________________________________________________________________________________\n"
     ]
    }
   ],
   "source": [
    "tf.keras.backend.clear_session()\n",
    "\n",
    "# 하이퍼파라미터\n",
    "NUM_LAYERS = 2 # 인코더와 디코더의 층의 개수\n",
    "D_MODEL = 256 # 인코더와 디코더 내부의 입, 출력의 고정 차원\n",
    "NUM_HEADS = 8 # 멀티 헤드 어텐션에서의 헤드 수 \n",
    "UNITS = 512 # 피드 포워드 신경망의 은닉층의 크기\n",
    "DROPOUT = 0.1 # 드롭아웃의 비율\n",
    "\n",
    "model = transformer(\n",
    "    vocab_size=VOCAB_SIZE,\n",
    "    num_layers=NUM_LAYERS,\n",
    "    units=UNITS,\n",
    "    d_model=D_MODEL,\n",
    "    num_heads=NUM_HEADS,\n",
    "    dropout=DROPOUT)\n",
    "\n",
    "model.summary()"
   ]
  },
  {
   "cell_type": "markdown",
   "id": "292ac15d",
   "metadata": {},
   "source": [
    "Loss function"
   ]
  },
  {
   "cell_type": "code",
   "execution_count": 269,
   "id": "6d158a45",
   "metadata": {},
   "outputs": [],
   "source": [
    "def loss_function(y_true, y_pred):\n",
    "\n",
    "    y_true = tf.reshape(y_true, shape=(-1, MAX_LENGTH - 1))\n",
    "\n",
    "    loss = tf.keras.losses.SparseCategoricalCrossentropy(\n",
    "      from_logits=True, reduction='none')(y_true, y_pred)\n",
    "\n",
    "    mask = tf.cast(tf.not_equal(y_true, 0), tf.float32)\n",
    "    loss = tf.multiply(loss, mask)\n",
    "\n",
    "    return tf.reduce_mean(loss)"
   ]
  },
  {
   "cell_type": "markdown",
   "id": "f7a5ccc1",
   "metadata": {},
   "source": [
    "Learning reate scheduler"
   ]
  },
  {
   "cell_type": "code",
   "execution_count": 270,
   "id": "05d0f11c",
   "metadata": {},
   "outputs": [],
   "source": [
    "class CustomSchedule(tf.keras.optimizers.schedules.LearningRateSchedule):\n",
    "\n",
    "  def __init__(self, d_model, warmup_steps=4000):\n",
    "    super(CustomSchedule, self).__init__()\n",
    "\n",
    "    self.d_model = d_model\n",
    "    self.d_model = tf.cast(self.d_model, tf.float32)\n",
    "\n",
    "    self.warmup_steps = warmup_steps\n",
    "\n",
    "  def __call__(self, step):\n",
    "    arg1 = tf.math.rsqrt(step)\n",
    "    arg2 = step * (self.warmup_steps**-1.5)\n",
    "\n",
    "    return tf.math.rsqrt(self.d_model) * tf.math.minimum(arg1, arg2)"
   ]
  },
  {
   "cell_type": "markdown",
   "id": "b68aae02",
   "metadata": {},
   "source": [
    "## 4. 모델 훈련"
   ]
  },
  {
   "cell_type": "code",
   "execution_count": 271,
   "id": "75b90c4c",
   "metadata": {},
   "outputs": [],
   "source": [
    "learning_rate = CustomSchedule(D_MODEL)\n",
    "\n",
    "optimizer = tf.keras.optimizers.Adam(\n",
    "    learning_rate, beta_1=0.9, beta_2=0.98, epsilon=1e-9)\n",
    "\n",
    "def accuracy(y_true, y_pred):\n",
    "  y_true = tf.reshape(y_true, shape=(-1, MAX_LENGTH - 1))\n",
    "  return tf.keras.metrics.sparse_categorical_accuracy(y_true, y_pred)\n",
    "\n",
    "model.compile(optimizer=optimizer, \n",
    "              loss=loss_function, \n",
    "              metrics=[accuracy])"
   ]
  },
  {
   "cell_type": "code",
   "execution_count": 272,
   "id": "2180f632",
   "metadata": {},
   "outputs": [
    {
     "name": "stdout",
     "output_type": "stream",
     "text": [
      "Epoch 1/20\n",
      "147/147 [==============================] - 20s 91ms/step - loss: 1.1952 - accuracy: 0.0239 - val_loss: 1.0648 - val_accuracy: 0.0494\n",
      "Epoch 2/20\n",
      "147/147 [==============================] - 11s 76ms/step - loss: 0.9535 - accuracy: 0.0493 - val_loss: 0.8220 - val_accuracy: 0.0501\n",
      "Epoch 3/20\n",
      "147/147 [==============================] - 11s 77ms/step - loss: 0.7571 - accuracy: 0.0509 - val_loss: 0.6918 - val_accuracy: 0.0527\n",
      "Epoch 4/20\n",
      "147/147 [==============================] - 11s 77ms/step - loss: 0.6760 - accuracy: 0.0540 - val_loss: 0.6440 - val_accuracy: 0.0561\n",
      "Epoch 5/20\n",
      "147/147 [==============================] - 12s 80ms/step - loss: 0.6362 - accuracy: 0.0576 - val_loss: 0.5994 - val_accuracy: 0.0608\n",
      "Epoch 6/20\n",
      "147/147 [==============================] - 11s 76ms/step - loss: 0.5984 - accuracy: 0.0611 - val_loss: 0.5542 - val_accuracy: 0.0649\n",
      "Epoch 7/20\n",
      "147/147 [==============================] - 11s 77ms/step - loss: 0.5592 - accuracy: 0.0648 - val_loss: 0.5087 - val_accuracy: 0.0690\n",
      "Epoch 8/20\n",
      "147/147 [==============================] - 11s 77ms/step - loss: 0.5180 - accuracy: 0.0688 - val_loss: 0.4594 - val_accuracy: 0.0753\n",
      "Epoch 9/20\n",
      "147/147 [==============================] - 11s 76ms/step - loss: 0.4740 - accuracy: 0.0733 - val_loss: 0.4097 - val_accuracy: 0.0798\n",
      "Epoch 10/20\n",
      "147/147 [==============================] - 11s 77ms/step - loss: 0.4288 - accuracy: 0.0785 - val_loss: 0.3574 - val_accuracy: 0.0873\n",
      "Epoch 11/20\n",
      "147/147 [==============================] - 11s 77ms/step - loss: 0.3823 - accuracy: 0.0839 - val_loss: 0.3067 - val_accuracy: 0.0936\n",
      "Epoch 12/20\n",
      "147/147 [==============================] - 11s 77ms/step - loss: 0.3355 - accuracy: 0.0902 - val_loss: 0.2558 - val_accuracy: 0.1008\n",
      "Epoch 13/20\n",
      "147/147 [==============================] - 11s 77ms/step - loss: 0.2901 - accuracy: 0.0962 - val_loss: 0.2059 - val_accuracy: 0.1088\n",
      "Epoch 14/20\n",
      "147/147 [==============================] - 11s 77ms/step - loss: 0.2464 - accuracy: 0.1027 - val_loss: 0.1629 - val_accuracy: 0.1151\n",
      "Epoch 15/20\n",
      "147/147 [==============================] - 11s 77ms/step - loss: 0.2054 - accuracy: 0.1084 - val_loss: 0.1263 - val_accuracy: 0.1225\n",
      "Epoch 16/20\n",
      "147/147 [==============================] - 11s 77ms/step - loss: 0.1698 - accuracy: 0.1140 - val_loss: 0.0957 - val_accuracy: 0.1279\n",
      "Epoch 17/20\n",
      "147/147 [==============================] - 11s 77ms/step - loss: 0.1391 - accuracy: 0.1189 - val_loss: 0.0715 - val_accuracy: 0.1323\n",
      "Epoch 18/20\n",
      "147/147 [==============================] - 11s 77ms/step - loss: 0.1139 - accuracy: 0.1231 - val_loss: 0.0540 - val_accuracy: 0.1354\n",
      "Epoch 19/20\n",
      "147/147 [==============================] - 11s 77ms/step - loss: 0.0935 - accuracy: 0.1268 - val_loss: 0.0401 - val_accuracy: 0.1381\n",
      "Epoch 20/20\n",
      "147/147 [==============================] - 11s 77ms/step - loss: 0.0778 - accuracy: 0.1296 - val_loss: 0.0341 - val_accuracy: 0.1391\n"
     ]
    }
   ],
   "source": [
    "EPOCHS = 20\n",
    "\n",
    "history = model.fit(dataset, \n",
    "                      validation_data=valid_dataset, \n",
    "                      epochs=EPOCHS, \n",
    "                      verbose=1)"
   ]
  },
  {
   "cell_type": "markdown",
   "id": "b64668ba",
   "metadata": {},
   "source": [
    "## 5. 모델 추론 구현"
   ]
  },
  {
   "cell_type": "code",
   "execution_count": 346,
   "id": "66eb2769",
   "metadata": {},
   "outputs": [],
   "source": [
    "def decoder_inference(sentence):\n",
    "  sentence = preprocess_sentence(sentence)\n",
    "  sentence = okt.morphs(sentence)\n",
    "  sentence = remove_stop_words(sentence)\n",
    "  sentence = all_tokenizer.texts_to_sequences([sentence])[0]\n",
    "\n",
    "  # ex) Where have you been? → [[8331   86   30    5 1059    7 8332]]\n",
    "  sentence = tf.expand_dims(sentence, axis=0)\n",
    "\n",
    "  # 디코더의 현재까지의 예측한 출력 시퀀스가 지속적으로 저장되는 변수.\n",
    "  # 처음에는 예측한 내용이 없음으로 시작 토큰만 별도 저장. ex) 8331\n",
    "  output_sequence = tf.expand_dims(START_TOKEN, 0)\n",
    "\n",
    "  print(\"sentence shape\", sentence.shape)\n",
    "  # 디코더의 인퍼런스 단계\n",
    "  for i in range(MAX_LENGTH):\n",
    "    # 디코더는 최대 MAX_LENGTH의 길이만큼 다음 단어 예측을 반복합니다.\n",
    "    predictions = model(inputs=[sentence, output_sequence], training=False)\n",
    "    predictions = predictions[:, -1:, :]\n",
    "\n",
    "    # 현재 예측한 단어의 정수\n",
    "    predicted_id = tf.cast(tf.argmax(predictions, axis=-1), tf.int32)\n",
    "\n",
    "    # 만약 현재 예측한 단어가 종료 토큰이라면 for문을 종료\n",
    "    if tf.equal(predicted_id, END_TOKEN[0]):\n",
    "      break\n",
    "\n",
    "    # 예측한 단어들은 지속적으로 output_sequence에 추가됩니다.\n",
    "    # 이 output_sequence는 다시 디코더의 입력이 됩니다.\n",
    "    output_sequence = tf.concat([output_sequence, predicted_id], axis=-1)\n",
    "\n",
    "  return tf.squeeze(output_sequence, axis=0)"
   ]
  },
  {
   "cell_type": "code",
   "execution_count": 347,
   "id": "e694a31d",
   "metadata": {},
   "outputs": [],
   "source": [
    "def sentence_generation(sentence):\n",
    "  # 입력 문장에 대해서 디코더를 동작 시켜 예측된 정수 시퀀스를 리턴받습니다.\n",
    "\n",
    "  prediction = decoder_inference(sentence)\n",
    "\n",
    "  # 정수 시퀀스를 다시 텍스트 시퀀스로 변환합니다.\n",
    "  predicted_sentence = all_tokenizer.sequence_to_texts(\n",
    "      [i for i in prediction if i < all_tokenizer.vocab_size])\n",
    "\n",
    "  print('입력 : {}'.format(sentence))\n",
    "  print('출력 : {}'.format(predicted_sentence))\n",
    "\n",
    "  return predicted_sentence"
   ]
  },
  {
   "cell_type": "code",
   "execution_count": 2,
   "id": "455522c7",
   "metadata": {},
   "outputs": [
    {
     "name": "stdout",
     "output_type": "stream",
     "text": [
      "입력 : 무서운 영화는 어때?\n",
      "출력 : 재밌을 것 같아요 .\n"
     ]
    },
    {
     "data": {
      "text/plain": [
       "'재밌을 것 같아요 .'"
      ]
     },
     "execution_count": 2,
     "metadata": {},
     "output_type": "execute_result"
    }
   ],
   "source": [
    "sentence_generation('무서운 영화는 어때?')"
   ]
  },
  {
   "cell_type": "markdown",
   "id": "0053f907",
   "metadata": {},
   "source": [
    "## 회고\n",
    "* 배운 점\n",
    "  - 트랜스포머의 상세한 구현에 대해 학습할 수 있었습니다.\n",
    "* 아쉬운 점\n",
    "  - 안보고 구현해볼 수 있을 만큼 까지는 못해서 아쉬웠습니다. \n",
    "* 느낀 점\n",
    "  - 만들지 못하는 것은 이해하지 못한 것이다.. 라는 말이 떠올랐습니다.\n",
    "* 어려웠던 점\n",
    "  - 각 알고리즘 마다 데이터 shape의 변형을 이해하는데 시간이 걸렸습니다."
   ]
  }
 ],
 "metadata": {
  "kernelspec": {
   "display_name": "Python 3 (ipykernel)",
   "language": "python",
   "name": "python3"
  },
  "language_info": {
   "codemirror_mode": {
    "name": "ipython",
    "version": 3
   },
   "file_extension": ".py",
   "mimetype": "text/x-python",
   "name": "python",
   "nbconvert_exporter": "python",
   "pygments_lexer": "ipython3",
   "version": "3.9.7"
  }
 },
 "nbformat": 4,
 "nbformat_minor": 5
}
